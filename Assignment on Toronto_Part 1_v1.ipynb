{
 "cells": [
  {
   "cell_type": "markdown",
   "metadata": {},
   "source": [
    "**Part 1:**\n",
    "Scraping Postal Codes from Wikipidea\n",
    "<br>\n",
    "\"Explore and cluster the neighborhoods in Toronto.\"\n",
    "<br>\n",
    "Scraping list of postal codes in Canada where the first letter is M. Postal codes beginning with M are located within the city of Toronto in the province of Ontario.\n",
    "<br>\n",
    "The following script will scrape the following Wikipedia page, https://en.wikipedia.org/wiki/List_of_postal_codes_of_Canada:_M,\n",
    "Data content of postal codes table will be obtained and then transformed into pandas dataframe."
   ]
  },
  {
   "cell_type": "code",
   "execution_count": 1,
   "metadata": {
    "ExecuteTime": {
     "end_time": "2020-11-16T08:54:56.315038Z",
     "start_time": "2020-11-16T08:54:55.682512Z"
    }
   },
   "outputs": [],
   "source": [
    "import requests # library to handle requests\n",
    "import lxml.html as lh\n",
    "import bs4 as bs\n",
    "import urllib.request\n",
    "\n",
    "import numpy as np # library to handle data in a vectorized manner\n",
    "import pandas as pd # library for data analsysis"
   ]
  },
  {
   "cell_type": "code",
   "execution_count": 2,
   "metadata": {
    "ExecuteTime": {
     "end_time": "2020-11-16T08:54:56.331004Z",
     "start_time": "2020-11-16T08:54:56.316038Z"
    }
   },
   "outputs": [],
   "source": [
    "# Sourcing for URL\n",
    "url   = \"https://en.wikipedia.org/wiki/List_of_postal_codes_of_Canada:_M\""
   ]
  },
  {
   "cell_type": "markdown",
   "metadata": {},
   "source": [
    "Either the Python - BeautifulSoup or Python lxml can be used to pull date out of html or xml files.  I will be using BeautifulSoup for this assignment."
   ]
  },
  {
   "cell_type": "code",
   "execution_count": 3,
   "metadata": {
    "ExecuteTime": {
     "end_time": "2020-11-16T08:54:56.376876Z",
     "start_time": "2020-11-16T08:54:56.332992Z"
    }
   },
   "outputs": [],
   "source": [
    "# Defining the function of scraping\n",
    "def scrape_table_bs4(cname,cols):\n",
    "    page  = urllib.request.urlopen(url).read()\n",
    "    soup  = bs.BeautifulSoup(page,'lxml')\n",
    "    table = soup.find(\"table\",class_=cname)\n",
    "    header = [head.findAll(text=True)[0].strip() for head in table.find_all(\"th\")]\n",
    "    data   = [[td.findAll(text=True)[0].strip() for td in tr.find_all(\"td\")]\n",
    "              for tr in table.find_all(\"tr\")]\n",
    "    data    = [row for row in data if len(row) == cols]\n",
    "    # Store data to this temporary dataframe\n",
    "    raw_df = pd.DataFrame(data,columns=header)\n",
    "    return raw_df\n",
    "\n",
    "# -----------------------------------------------------\n",
    "# Parsing using xpath.\n",
    "# -----------------------------------------------------\n",
    "def scrape_table_lxml(XPATH,cols):\n",
    "    page = requests.get(url)\n",
    "    doc = lh.fromstring(page.content)\n",
    "    table_content = doc.xpath(XPATH)\n",
    "    for table in table_content:\n",
    "        headers = [th.text_content().strip() for th in table.xpath('//th')]\n",
    "        headers = headers[0:3]\n",
    "        data    = [[td.text_content().strip() for td in tr.xpath('td')] \n",
    "                   for tr in table.xpath('//tbody/tr')]\n",
    "        data    = [row for row in data if len(row) == cols]\n",
    "        raw_df = pd.DataFrame(data,columns=headers)\n",
    "        return raw_df"
   ]
  },
  {
   "cell_type": "code",
   "execution_count": 4,
   "metadata": {
    "ExecuteTime": {
     "end_time": "2020-11-16T08:54:56.532460Z",
     "start_time": "2020-11-16T08:54:56.378871Z"
    }
   },
   "outputs": [
    {
     "name": "stdout",
     "output_type": "stream",
     "text": [
      "# Toronto Postal codes stored in data\n",
      "<class 'pandas.core.frame.DataFrame'>\n",
      "RangeIndex: 180 entries, 0 to 179\n",
      "Data columns (total 3 columns):\n",
      " #   Column         Non-Null Count  Dtype \n",
      "---  ------         --------------  ----- \n",
      " 0   Postal Code    180 non-null    object\n",
      " 1   Borough        180 non-null    object\n",
      " 2   Neighbourhood  180 non-null    object\n",
      "dtypes: object(3)\n",
      "memory usage: 4.3+ KB\n",
      "None\n"
     ]
    }
   ],
   "source": [
    "#Test in beautifulSoup\n",
    "raw_TorontoPostalCodes = scrape_table_bs4(\"wikitable\",3)\n",
    "\n",
    "#Test in lxml ( for xpath based extraction)\n",
    "#raw_TorontoPostalCodes = scrape_table_lxml(\"/html/body/div[3]/div[3]/div[4]/div/table[1]\",3)\n",
    "\n",
    "print(\"# Toronto Postal codes stored in data\")\n",
    "print(raw_TorontoPostalCodes.info(verbose=True))"
   ]
  },
  {
   "cell_type": "markdown",
   "metadata": {},
   "source": [
    "**Data Cleanup and re-grouping**\n",
    "<br>\n",
    "The scraped wikipedia table contains some unwanted entries and needs some cleanup. I have performed the following:\n",
    "<br>\n",
    "1. Drop/ignore cells with un-assigned boroughs.\n",
    "<br>\n",
    "2. If a cell has a borough but a Not assigned neighborhood, then the neighborhood will be the same as the borough.\n",
    "Group the table by PostalCode/Borough, Neighbourhood belonging to same borough will be combined in 'Neighbourhood' column as separated with 'comma'."
   ]
  },
  {
   "cell_type": "code",
   "execution_count": 5,
   "metadata": {
    "ExecuteTime": {
     "end_time": "2020-11-16T08:54:56.578336Z",
     "start_time": "2020-11-16T08:54:56.534453Z"
    }
   },
   "outputs": [],
   "source": [
    "# Only process the cells that have an assigned borough and ignore cells with a borough that is Not assigned.\n",
    "TorontoPostalCodes=raw_TorontoPostalCodes[~raw_TorontoPostalCodes['Borough'].isin(['Not assigned'])]\n",
    "\n",
    "# Sort and Reset index.\n",
    "TorontoPostalCodes=TorontoPostalCodes.sort_values(by=['Postal Code','Borough','Neighbourhood'], ascending=[1,1,1]).reset_index(drop=True)\n",
    "\n",
    "# If a cell has a borough but a Not assigned neighborhood, then the neighborhood will be the same as the borough.\n",
    "# For example the value of the Borough and the Neighborhood columns will be Queen's Park.\n",
    "TorontoPostalCodes.loc[TorontoPostalCodes['Neighbourhood'] == 'Not assigned', ['Neighbourhood']] = TorontoPostalCodes['Borough']\n",
    "check_unassigned_post_state_sample = TorontoPostalCodes.loc[TorontoPostalCodes['Borough'] == 'Queen\\'s Park']\n",
    "\n",
    "#print('DEBUG:',check_unassigned_post_state_sample) ; # Print sample borough problem post state\n",
    "\n",
    "\n",
    "# More than one neighborhood can exist in one postal code area. \n",
    "# For example, in the table on the Wikipedia page, you will notice that M5A is listed twice \n",
    "# and has two neighborhoods: Harbourfront and Regent Park. \n",
    "# These two rows will be combined into one row with the neighborhoods separated with a comma.\n",
    "\n",
    "TorontoPostalCodes = TorontoPostalCodes.groupby(['Postal Code','Borough'])['Neighbourhood'].apply(', '.join).reset_index()"
   ]
  },
  {
   "cell_type": "code",
   "execution_count": 6,
   "metadata": {
    "ExecuteTime": {
     "end_time": "2020-11-16T08:54:56.609254Z",
     "start_time": "2020-11-16T08:54:56.579334Z"
    }
   },
   "outputs": [
    {
     "data": {
      "text/html": [
       "<div>\n",
       "<style scoped>\n",
       "    .dataframe tbody tr th:only-of-type {\n",
       "        vertical-align: middle;\n",
       "    }\n",
       "\n",
       "    .dataframe tbody tr th {\n",
       "        vertical-align: top;\n",
       "    }\n",
       "\n",
       "    .dataframe thead th {\n",
       "        text-align: right;\n",
       "    }\n",
       "</style>\n",
       "<table border=\"1\" class=\"dataframe\">\n",
       "  <thead>\n",
       "    <tr style=\"text-align: right;\">\n",
       "      <th></th>\n",
       "      <th>Postal Code</th>\n",
       "      <th>Borough</th>\n",
       "      <th>Neighbourhood</th>\n",
       "    </tr>\n",
       "  </thead>\n",
       "  <tbody>\n",
       "    <tr>\n",
       "      <th>0</th>\n",
       "      <td>M1B</td>\n",
       "      <td>Scarborough</td>\n",
       "      <td>Malvern, Rouge</td>\n",
       "    </tr>\n",
       "    <tr>\n",
       "      <th>1</th>\n",
       "      <td>M1C</td>\n",
       "      <td>Scarborough</td>\n",
       "      <td>Rouge Hill, Port Union, Highland Creek</td>\n",
       "    </tr>\n",
       "    <tr>\n",
       "      <th>2</th>\n",
       "      <td>M1E</td>\n",
       "      <td>Scarborough</td>\n",
       "      <td>Guildwood, Morningside, West Hill</td>\n",
       "    </tr>\n",
       "    <tr>\n",
       "      <th>3</th>\n",
       "      <td>M1G</td>\n",
       "      <td>Scarborough</td>\n",
       "      <td>Woburn</td>\n",
       "    </tr>\n",
       "    <tr>\n",
       "      <th>4</th>\n",
       "      <td>M1H</td>\n",
       "      <td>Scarborough</td>\n",
       "      <td>Cedarbrae</td>\n",
       "    </tr>\n",
       "    <tr>\n",
       "      <th>...</th>\n",
       "      <td>...</td>\n",
       "      <td>...</td>\n",
       "      <td>...</td>\n",
       "    </tr>\n",
       "    <tr>\n",
       "      <th>98</th>\n",
       "      <td>M9N</td>\n",
       "      <td>York</td>\n",
       "      <td>Weston</td>\n",
       "    </tr>\n",
       "    <tr>\n",
       "      <th>99</th>\n",
       "      <td>M9P</td>\n",
       "      <td>Etobicoke</td>\n",
       "      <td>Westmount</td>\n",
       "    </tr>\n",
       "    <tr>\n",
       "      <th>100</th>\n",
       "      <td>M9R</td>\n",
       "      <td>Etobicoke</td>\n",
       "      <td>Kingsview Village, St. Phillips, Martin Grove ...</td>\n",
       "    </tr>\n",
       "    <tr>\n",
       "      <th>101</th>\n",
       "      <td>M9V</td>\n",
       "      <td>Etobicoke</td>\n",
       "      <td>South Steeles, Silverstone, Humbergate, Jamest...</td>\n",
       "    </tr>\n",
       "    <tr>\n",
       "      <th>102</th>\n",
       "      <td>M9W</td>\n",
       "      <td>Etobicoke</td>\n",
       "      <td>Northwest, West Humber - Clairville</td>\n",
       "    </tr>\n",
       "  </tbody>\n",
       "</table>\n",
       "<p>103 rows × 3 columns</p>\n",
       "</div>"
      ],
      "text/plain": [
       "    Postal Code      Borough  \\\n",
       "0           M1B  Scarborough   \n",
       "1           M1C  Scarborough   \n",
       "2           M1E  Scarborough   \n",
       "3           M1G  Scarborough   \n",
       "4           M1H  Scarborough   \n",
       "..          ...          ...   \n",
       "98          M9N         York   \n",
       "99          M9P    Etobicoke   \n",
       "100         M9R    Etobicoke   \n",
       "101         M9V    Etobicoke   \n",
       "102         M9W    Etobicoke   \n",
       "\n",
       "                                         Neighbourhood  \n",
       "0                                       Malvern, Rouge  \n",
       "1               Rouge Hill, Port Union, Highland Creek  \n",
       "2                    Guildwood, Morningside, West Hill  \n",
       "3                                               Woburn  \n",
       "4                                            Cedarbrae  \n",
       "..                                                 ...  \n",
       "98                                              Weston  \n",
       "99                                           Westmount  \n",
       "100  Kingsview Village, St. Phillips, Martin Grove ...  \n",
       "101  South Steeles, Silverstone, Humbergate, Jamest...  \n",
       "102                Northwest, West Humber - Clairville  \n",
       "\n",
       "[103 rows x 3 columns]"
      ]
     },
     "execution_count": 6,
     "metadata": {},
     "output_type": "execute_result"
    }
   ],
   "source": [
    "TorontoPostalCodes"
   ]
  },
  {
   "cell_type": "code",
   "execution_count": 7,
   "metadata": {
    "ExecuteTime": {
     "end_time": "2020-11-16T08:54:56.624214Z",
     "start_time": "2020-11-16T08:54:56.610252Z"
    }
   },
   "outputs": [
    {
     "data": {
      "text/plain": [
       "(103, 3)"
      ]
     },
     "execution_count": 7,
     "metadata": {},
     "output_type": "execute_result"
    }
   ],
   "source": [
    "TorontoPostalCodes.shape"
   ]
  },
  {
   "cell_type": "code",
   "execution_count": 8,
   "metadata": {
    "ExecuteTime": {
     "end_time": "2020-11-16T08:54:56.655184Z",
     "start_time": "2020-11-16T08:54:56.628202Z"
    }
   },
   "outputs": [],
   "source": [
    "# This is to export the cleaned-up data to local drive for contingency and future use.\n",
    "TorontoPostalCodes.to_csv (\"C:/Toronto_Part_1.csv\", index=False)\n"
   ]
  }
 ],
 "metadata": {
  "kernelspec": {
   "display_name": "Python 3",
   "language": "python",
   "name": "python3"
  },
  "language_info": {
   "codemirror_mode": {
    "name": "ipython",
    "version": 3
   },
   "file_extension": ".py",
   "mimetype": "text/x-python",
   "name": "python",
   "nbconvert_exporter": "python",
   "pygments_lexer": "ipython3",
   "version": "3.8.3"
  },
  "latex_envs": {
   "LaTeX_envs_menu_present": true,
   "autoclose": false,
   "autocomplete": true,
   "bibliofile": "biblio.bib",
   "cite_by": "apalike",
   "current_citInitial": 1,
   "eqLabelWithNumbers": true,
   "eqNumInitial": 1,
   "hotkeys": {
    "equation": "Ctrl-E",
    "itemize": "Ctrl-I"
   },
   "labels_anchors": false,
   "latex_user_defs": false,
   "report_style_numbering": false,
   "user_envs_cfg": false
  },
  "toc": {
   "base_numbering": 1,
   "nav_menu": {},
   "number_sections": true,
   "sideBar": true,
   "skip_h1_title": false,
   "title_cell": "Table of Contents",
   "title_sidebar": "Contents",
   "toc_cell": false,
   "toc_position": {},
   "toc_section_display": true,
   "toc_window_display": false
  }
 },
 "nbformat": 4,
 "nbformat_minor": 4
}
